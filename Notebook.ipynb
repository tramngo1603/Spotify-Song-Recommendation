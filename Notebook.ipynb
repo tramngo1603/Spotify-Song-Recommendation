{
 "cells": [
  {
   "cell_type": "markdown",
   "metadata": {},
   "source": [
    "### This is a project that builds a song recommender's system with extracted data from Spotify. \n",
    "\n",
    "### There is 4 parts to this notebook: \n",
    "\n",
    "#### 1. Extracting data from Spotify’s API \n",
    "\n",
    "#### 2. Explorative Data Analysis \n",
    "\n",
    "#### 3. \n",
    "\n",
    "#### 4. "
   ]
  }
 ],
 "metadata": {
  "kernelspec": {
   "display_name": "Python 3",
   "language": "python",
   "name": "python3"
  },
  "language_info": {
   "codemirror_mode": {
    "name": "ipython",
    "version": 3
   },
   "file_extension": ".py",
   "mimetype": "text/x-python",
   "name": "python",
   "nbconvert_exporter": "python",
   "pygments_lexer": "ipython3",
   "version": "3.7.4"
  }
 },
 "nbformat": 4,
 "nbformat_minor": 2
}
